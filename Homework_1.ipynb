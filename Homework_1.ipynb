{
  "nbformat": 4,
  "nbformat_minor": 0,
  "metadata": {
    "colab": {
      "name": "Homework-1.ipynb",
      "provenance": [],
      "collapsed_sections": [],
      "authorship_tag": "ABX9TyNXEl/sQa7rYGM60tjwohq2",
      "include_colab_link": true
    },
    "kernelspec": {
      "name": "python3",
      "display_name": "Python 3"
    },
    "language_info": {
      "name": "python"
    }
  },
  "cells": [
    {
      "cell_type": "markdown",
      "metadata": {
        "id": "view-in-github",
        "colab_type": "text"
      },
      "source": [
        "<a href=\"https://colab.research.google.com/github/Dnezzhello/homework/blob/main/Homework_1.ipynb\" target=\"_parent\"><img src=\"https://colab.research.google.com/assets/colab-badge.svg\" alt=\"Open In Colab\"/></a>"
      ]
    },
    {
      "cell_type": "code",
      "execution_count": 14,
      "metadata": {
        "id": "aKet2PmwJmXJ"
      },
      "outputs": [],
      "source": [
        "data = [[10000, 0.5], [20000, 0.8]]"
      ]
    },
    {
      "cell_type": "code",
      "source": [
        "def thousand_sep(num):\n",
        "    return (\"{:,}\".format(num))\n"
      ],
      "metadata": {
        "id": "i0an3IBvQZtW"
      },
      "execution_count": 10,
      "outputs": []
    },
    {
      "cell_type": "code",
      "source": [
        "print(\"ສະບາຍດີ ຍິນດີຕ້ອນຮັບສູ່ພິພິທະພັນຂອງພວກເຮົາ\\n\\nລູກຄ້າແມ່ນຄົນຕ່າງຊາດ ຫຼື ຄົນທ້ອງຖິ່ນ?\")\n",
        "\n",
        "choice = int(input(\"ພິມ 1 ສຳລັບຄົນທ້ອງຖິ່ນ\\nພິມ 2 ສຳລັບຄົນຕ່າງຊາດ\\n\\nປ້ອນຂໍ້ມູນ: \"))\n",
        "\n",
        "while choice not in [1, 2]:\n",
        "    choice = int(input(\"ປ້ອນຂໍ້ມູນໃໝ່: \"))\n",
        "\n",
        "n = int(input(\"\\nລູກຄ້າຕ້ອງການຈັກປີ້?\\nປ້ອນຂໍ້ມູນ: \"))\n",
        "\n",
        "if n > 10:\n",
        "    total = thousand_sep(int(n*data[choice-1][0]*data[choice-1][1]))\n",
        "    print(f\"\\nພວກເຮົາມີສ່ວນຫຼຸດໃຫ້ ແລະ ລາຄາທັງໝົດແມ່ນ: {total} ກີບ\")\n",
        "else:\n",
        "    total = thousand_sep(int(n*data[choice-1][0]))\n",
        "    print(f\"ລາຄາທັງໝົດແມ່ນ: {total} ກີບ\")"
      ],
      "metadata": {
        "colab": {
          "base_uri": "https://localhost:8080/"
        },
        "id": "RCzwEmjvJ1vg",
        "outputId": "f3413db0-2c79-4a31-a28a-69cfa852c521"
      },
      "execution_count": 19,
      "outputs": [
        {
          "output_type": "stream",
          "name": "stdout",
          "text": [
            "ສະບາຍດີ ຍິນດີຕ້ອນຮັບສູ່ພິພິທະພັນຂອງພວກເຮົາ\n",
            "\n",
            "ລູກຄ້າແມ່ນຄົນຕ່າງຊາດ ຫຼື ຄົນທ້ອງຖິ່ນ?\n",
            "ພິມ 1 ສຳລັບຄົນທ້ອງຖິ່ນ\n",
            "ພິມ 2 ສຳລັບຄົນຕ່າງຊາດ\n",
            "\n",
            "ປ້ອນຂໍ້ມູນ: 2\n",
            "\n",
            "ລູກຄ້າຕ້ອງການຈັກປີ້?\n",
            "ປ້ອນຂໍ້ມູນ: 25\n",
            "\n",
            "ພວກເຮົາມີສ່ວນຫຼຸດໃຫ້ ແລະ ລາຄາທັງໝົດແມ່ນ: 400,000 ກີບ\n"
          ]
        }
      ]
    },
    {
      "cell_type": "code",
      "source": [
        ""
      ],
      "metadata": {
        "id": "cGt1XkcYLmM6"
      },
      "execution_count": null,
      "outputs": []
    }
  ]
}